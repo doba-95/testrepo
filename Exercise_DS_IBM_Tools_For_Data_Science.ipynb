{
 "cells": [
  {
   "cell_type": "markdown",
   "id": "d206d419-9c06-4470-b0e2-67b17359f61b",
   "metadata": {},
   "source": [
    "# Data Science Tools and Ecosystem\n",
    "## In this notebook, Data Science Tools and Ecosystem are summarized\n",
    "### Objectives:\n",
    "- List popular languages for Data Scientists\n",
    "- List commonly used libraries\n",
    "- Demonstrate how to create tables\n",
    "- Peform simple arithmetic expressions in Python\n"
   ]
  },
  {
   "cell_type": "markdown",
   "id": "b57fb61b-4412-4fe8-921a-05d299a92b54",
   "metadata": {},
   "source": [
    "### Some of the popular languages that Data Scientists use are:\n",
    "1. python\n",
    "2. R\n",
    "3. Scala"
   ]
  },
  {
   "cell_type": "markdown",
   "id": "80c5b8e0-7c9e-45da-89e2-5b8bfc3ecdc5",
   "metadata": {},
   "source": [
    "### Some of the commonly used libraries used by Data Scientists include:\n",
    "1. scikit-learn\n",
    "2. SciPy\n",
    "3. ceras (R)"
   ]
  },
  {
   "cell_type": "markdown",
   "id": "c1c6f222-6fbd-429b-811f-bd326d3a8589",
   "metadata": {},
   "source": [
    "|Data Science Tools|\n",
    "|------------------|\n",
    "|Jupyter Notebooks|\n",
    "|R Studio|\n",
    "|Zeppelin Notebooks|\n"
   ]
  },
  {
   "cell_type": "markdown",
   "id": "39383324-c911-4cfb-b9c1-c4cf389371e2",
   "metadata": {},
   "source": [
    "### Below are a few examples of evaluating arithmetic expressions in Python"
   ]
  },
  {
   "cell_type": "code",
   "execution_count": 2,
   "id": "38225e07-04d1-446c-9316-9a27c0176c5d",
   "metadata": {},
   "outputs": [
    {
     "data": {
      "text/plain": [
       "17"
      ]
     },
     "execution_count": 2,
     "metadata": {},
     "output_type": "execute_result"
    }
   ],
   "source": [
    "# This is a simple arithmetic expression to multiply then add integers\n",
    "(3*4)+5"
   ]
  },
  {
   "cell_type": "code",
   "execution_count": 3,
   "id": "51e2e04a-8b7b-4920-aa20-f0a603fc6df0",
   "metadata": {},
   "outputs": [
    {
     "name": "stdout",
     "output_type": "stream",
     "text": [
      "200 Minutes are 3.3333333333333335 hours\n"
     ]
    }
   ],
   "source": [
    "# This will convert 200 minutes to hours by dividing by 60\n",
    "\n",
    "minutes = 200\n",
    "hours = minutes / 60\n",
    "print(f\"{minutes} Minutes are {hours} hours\")"
   ]
  },
  {
   "cell_type": "markdown",
   "id": "fe959015-e7ba-4f0c-b7ce-6080377d2e1a",
   "metadata": {},
   "source": [
    "## Author \n",
    "Dominic Bachmann"
   ]
  },
  {
   "cell_type": "code",
   "execution_count": null,
   "id": "f42d1ed3-0a14-4e5e-bc45-559013d33fa8",
   "metadata": {},
   "outputs": [],
   "source": []
  }
 ],
 "metadata": {
  "kernelspec": {
   "display_name": "Python 3 (ipykernel)",
   "language": "python",
   "name": "python3"
  },
  "language_info": {
   "codemirror_mode": {
    "name": "ipython",
    "version": 3
   },
   "file_extension": ".py",
   "mimetype": "text/x-python",
   "name": "python",
   "nbconvert_exporter": "python",
   "pygments_lexer": "ipython3",
   "version": "3.9.12"
  }
 },
 "nbformat": 4,
 "nbformat_minor": 5
}
